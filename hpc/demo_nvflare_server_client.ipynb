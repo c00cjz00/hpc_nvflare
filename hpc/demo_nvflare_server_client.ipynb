{
 "cells": [
  {
   "cell_type": "markdown",
   "id": "f85dda83",
   "metadata": {},
   "source": [
    "# 1. NVFLARE"
   ]
  },
  {
   "cell_type": "markdown",
   "id": "1c4fa457",
   "metadata": {},
   "source": [
    "## SLURM 指令函式化"
   ]
  },
  {
   "cell_type": "code",
   "execution_count": 15,
   "id": "62b58718-0810-4448-9a4c-8736d66cc072",
   "metadata": {},
   "outputs": [
    {
     "name": "stdout",
     "output_type": "stream",
     "text": [
      "             JOBID PARTITION     NAME     USER ST       TIME  NODES NODELIST(REASON) \n",
      "     1090376_[6-9]      ct2k Neuropix p00acy00 PD       0:00     36 (Resources) \n",
      "           1090839     ct224 oplsaa_C r0752403 PD       0:00      4 (Priority) \n",
      "           1090837     ct224 oplsaa_C r0752403 PD       0:00      4 (Nodes required for job are DOWN, DRAINED or reserved for jobs in higher priority partitions) \n",
      "           1090838     ct224 oplsaa_C r0752403 PD       0:00      4 (Priority) \n",
      "           1090841     ct224 CCCl_qui sharon47 PD       0:00      2 (Priority) \n",
      "           1090840      ct56 CCCl_qui sharon47 PD       0:00      1 (Nodes required for job are DOWN, DRAINED or reserved for jobs in higher priority partitions) \n",
      "           1090814      ct56 Atest.in tommykuo PD       0:00      1 (Priority) \n",
      "           1090815      ct56     A.in tommykuo PD       0:00      1 (Priority) \n",
      "           1090816      ct56     B.in tommykuo PD       0:00      1 (Priority) \n",
      "           1090863      ct56     C.in tommykuo PD       0:00      1 (Priority) \n",
      "           1089213   ngs512G run_SRR6 chia1717 PD       0:00      1 (QOSMaxJobsPerUserLimit) \n",
      "           1089214   ngs512G run_SRR6 chia1717 PD       0:00      1 (QOSMaxJobsPerUserLimit) \n",
      "           1089215   ngs512G run_SRR6 chia1717 PD       0:00      1 (QOSMaxJobsPerUserLimit) \n",
      "           1089216   ngs512G run_SRR6 chia1717 PD       0:00      1 (QOSMaxJobsPerUserLimit) \n",
      "           1089217   ngs512G run_SRR6 chia1717 PD       0:00      1 (QOSMaxJobsPerUserLimit) \n",
      "           1089218   ngs512G run_SRR6 chia1717 PD       0:00      1 (QOSMaxJobsPerUserLimit) \n",
      "           1089219   ngs512G run_SRR6 chia1717 PD       0:00      1 (QOSMaxJobsPerUserLimit) \n",
      "           1089220   ngs512G run_SRR6 chia1717 PD       0:00      1 (QOSMaxJobsPerUserLimit) \n",
      "           1089221   ngs512G run_SRR6 chia1717 PD       0:00      1 (QOSMaxJobsPerUserLimit) \n",
      "           1089222   ngs512G run_SRR6 chia1717 PD       0:00      1 (QOSMaxJobsPerUserLimit) \n",
      "           1089223   ngs512G run_SRR6 chia1717 PD       0:00      1 (QOSMaxJobsPerUserLimit) \n",
      "           1089224   ngs512G run_SRR6 chia1717 PD       0:00      1 (QOSMaxJobsPerUserLimit) \n",
      "           1089225   ngs512G run_SRR6 chia1717 PD       0:00      1 (QOSMaxJobsPerUserLimit) \n",
      "           1089226   ngs512G run_SRR6 chia1717 PD       0:00      1 (QOSMaxJobsPerUserLimit) \n",
      "           1089227   ngs512G run_SRR6 chia1717 PD       0:00      1 (QOSMaxJobsPerUserLimit) \n",
      "           1089228   ngs512G run_SRR6 chia1717 PD       0:00      1 (QOSMaxJobsPerUserLimit) \n",
      "           1089230   ngs512G run_SRR6 chia1717 PD       0:00      1 (QOSMaxJobsPerUserLimit) \n",
      "           1089231   ngs512G run_SRR6 chia1717 PD       0:00      1 (QOSMaxJobsPerUserLimit) \n",
      "           1089232   ngs512G run_SRR6 chia1717 PD       0:00      1 (QOSMaxJobsPerUserLimit) \n",
      "           1089233   ngs512G run_SRR6 chia1717 PD       0:00      1 (QOSMaxJobsPerUserLimit) \n",
      "           1089234   ngs512G run_SRR6 chia1717 PD       0:00      1 (QOSMaxJobsPerUserLimit) \n",
      "           1089250   ngs512G run_SRR6 chia1717 PD       0:00      1 (QOSMaxJobsPerUserLimit) \n",
      "           1089252   ngs512G run_SRR6 chia1717 PD       0:00      1 (QOSMaxJobsPerUserLimit) \n",
      "           1089253   ngs512G run_SRR6 chia1717 PD       0:00      1 (QOSMaxJobsPerUserLimit) \n",
      "           1089254   ngs512G run_SRR6 chia1717 PD       0:00      1 (QOSMaxJobsPerUserLimit) \n",
      "           1089255   ngs512G run_SRR6 chia1717 PD       0:00      1 (QOSMaxJobsPerUserLimit) \n",
      "           1089256   ngs512G run_SRR6 chia1717 PD       0:00      1 (QOSMaxJobsPerUserLimit) \n",
      "           1089257   ngs512G run_SRR6 chia1717 PD       0:00      1 (QOSMaxJobsPerUserLimit) \n",
      "           1089258   ngs512G run_SRR6 chia1717 PD       0:00      1 (QOSMaxJobsPerUserLimit) \n",
      "           1089259   ngs512G run_SRR6 chia1717 PD       0:00      1 (QOSMaxJobsPerUserLimit) \n",
      "           1089260   ngs512G run_SRR6 chia1717 PD       0:00      1 (QOSMaxJobsPerUserLimit) \n",
      "           1089261   ngs512G run_SRR6 chia1717 PD       0:00      1 (QOSMaxJobsPerUserLimit) \n",
      "           1089262   ngs512G run_SRR6 chia1717 PD       0:00      1 (QOSMaxJobsPerUserLimit) \n",
      "           1089263   ngs512G run_SRR6 chia1717 PD       0:00      1 (QOSMaxJobsPerUserLimit) \n",
      "           1089264   ngs512G run_SRR6 chia1717 PD       0:00      1 (QOSMaxJobsPerUserLimit) \n",
      "           1090843    ngs24G 220308_N u00cwh00 PD       0:00      1 (Dependency) \n",
      "           1090908    ngs24G 220308_N u00cwh00 PD       0:00      1 (Dependency) \n",
      "           1090853     ct224 vasp.hua u3703957 PD       0:00      2 (Priority) \n",
      "           1090854     ct224 vasp.hua u3703957 PD       0:00      2 (Priority) \n",
      "           1090855     ct224 vasp.hua u3703957 PD       0:00      2 (Priority) \n",
      "           1090856     ct224 vasp.hua u3703957 PD       0:00      2 (Priority) \n",
      "           1090857     ct224 vasp.hua u3703957 PD       0:00      2 (Priority) \n",
      "           1090859     ct224 vasp.hua u3703957 PD       0:00      2 (Priority) \n",
      "           1090860     ct224 vasp.hua u3703957 PD       0:00      2 (Priority) \n",
      "           1090861     ct224 vasp.hua u3703957 PD       0:00      2 (Priority) \n",
      "           1090864     ct224 vasp.hua u3703957 PD       0:00      2 (Priority) \n",
      "           1090866     ct224 vasp.hua u3703957 PD       0:00      2 (Priority) \n",
      "           1090867     ct224 vasp.hua u3703957 PD       0:00      2 (Priority) \n",
      "           1090868     ct224 vasp.hua u3703957 PD       0:00      2 (Priority) \n",
      "           1090869     ct224 vasp.hua u3703957 PD       0:00      2 (Priority) \n",
      "           1090870     ct224 vasp.hua u3703957 PD       0:00      2 (Priority) \n",
      "           1090871     ct224 vasp.hua u3703957 PD       0:00      2 (Priority) \n",
      "           1090872     ct224 vasp.hua u3703957 PD       0:00      2 (Priority) \n",
      "           1090873     ct224 vasp.hua u3703957 PD       0:00      2 (Priority) \n",
      "           1090874     ct224 vasp.hua u3703957 PD       0:00      2 (Priority) \n",
      "           1090875     ct224 vasp.hua u3703957 PD       0:00      2 (Priority) \n",
      "           1090876     ct224 vasp.hua u3703957 PD       0:00      2 (Priority) \n",
      "           1090877     ct224 vasp.hua u3703957 PD       0:00      2 (Priority) \n",
      "           1090878     ct224 vasp.hua u3703957 PD       0:00      2 (Priority) \n",
      "           1090879     ct224 vasp.hua u3703957 PD       0:00      2 (Priority) \n",
      "           1090880     ct224 vasp.hua u3703957 PD       0:00      2 (Priority) \n",
      "           1090881     ct224 vasp.hua u3703957 PD       0:00      2 (Priority) \n",
      "           1090882     ct224 vasp.hua u3703957 PD       0:00      2 (Priority) \n",
      "           1090883     ct224 vasp.hua u3703957 PD       0:00      2 (Priority) \n",
      "           1090884     ct224 vasp.hua u3703957 PD       0:00      2 (Priority) \n",
      "           1090885     ct224 vasp.hua u3703957 PD       0:00      2 (Priority) \n",
      "           1090886     ct224 vasp.hua u3703957 PD       0:00      2 (Priority) \n",
      "           1090887     ct224 vasp.hua u3703957 PD       0:00      2 (Priority) \n",
      "           1090888     ct224 vasp.hua u3703957 PD       0:00      2 (Priority) \n",
      "           1090889     ct224 vasp.hua u3703957 PD       0:00      2 (Priority) \n",
      "           1090890     ct224 vasp.hua u3703957 PD       0:00      2 (Priority) \n",
      "           1090891     ct224 vasp.hua u3703957 PD       0:00      2 (Priority) \n",
      "           1090892     ct224 vasp.hua u3703957 PD       0:00      2 (Priority) \n",
      "           1090848     ct224 vasp.hua u3703957 PD       0:00      2 (Priority) \n",
      "           1090849     ct224 vasp.hua u3703957 PD       0:00      2 (Priority) \n",
      "           1090850     ct224 vasp.hua u3703957 PD       0:00      2 (Priority) \n",
      "           1090851     ct224 vasp.hua u3703957 PD       0:00      2 (Priority) \n",
      "           1090852     ct224 vasp.hua u3703957 PD       0:00      2 (Priority) \n",
      "           1090844     ct224 vasp.hua u3703957 PD       0:00      2 (Priority) \n",
      "           1090845     ct224 vasp.hua u3703957 PD       0:00      2 (Priority) \n",
      "           1090846     ct224 vasp.hua u3703957 PD       0:00      2 (Priority) \n",
      "           1090847     ct224 vasp.hua u3703957 PD       0:00      2 (Priority) \n",
      "           1090826      ct56        1 m1070602 PD       0:00      1 (Priority) \n",
      "           1090829      ct56        2 m1070602 PD       0:00      1 (Priority) \n",
      "           1090830      ct56        3 m1070602 PD       0:00      1 (Priority) \n",
      "           1089803      ct56 st_archi minhuilo PD       0:00      1 (Dependency) \n",
      "           1090727      ct56 st_archi minhuilo PD       0:00      1 (Dependency) \n",
      "           1078120     ct224 cry17-jo u11atm00  R 2-03:47:58      4 cpn[3185-3188] \n",
      "           1057781     ct560 V-polar1 twchiu12  R 3-10:27:16      8 cpn[3615-3622] \n",
      "           1057776     ct560 V-polar8 twchiu12  R 3-10:32:48      8 cpn[3064-3071] \n",
      "           1057790     ct560   60840a twchiu12  R 3-10:15:33      8 cpn[3082-3089] \n",
      "           1089341      ct56 cTces_1s jimmy081  R    8:07:49      1 cpn3327 \n",
      "           1090638      ct56 Zhou_Ran jimmy081  R    1:49:29      1 cpn3026 \n",
      "           1089063     ct224      EPC jwchou02  R    9:39:02      2 cpn[3116-3117] \n",
      "           1076964      ct56 w-low-a1 bnbmax00  R 2-08:42:33      1 cpn3102 \n",
      "           1057812     ct560  0840-64 twchiu12  R 3-09:40:35      8 cpn[3248-3255] \n",
      "           1057809     ct560  0780-64 twchiu12  R 3-09:44:47      8 cpn[3093-3100] \n",
      "           1090901      ct56 Zhou_Ran jimmy081  R       8:58      1 cpn3134 \n",
      "           1057851     ct560   0840-8 twchiu12  R 3-08:18:03      8 cpn[3118-3125] \n",
      "           1089172      ct56    z1420 u11atm00  R    9:05:19      1 cpn3234 \n",
      "           1089551     ct224       t2 u11atm00  R    7:06:07      2 cpn[3056-3057] \n",
      "           1089543     ct224       t1 u11atm00  R    7:11:33      2 cpn[3503-3504] \n",
      "           1057957     ct560  0000-64 twchiu12  R 3-06:28:23      8 cpn[3572-3579] \n",
      "           1057956     ct560  0000-16 twchiu12  R 3-06:28:58      8 cpn[3564-3571] \n",
      "           1057953     ct560  1180-z8 twchiu12  R 3-06:32:51      8 cpn[3556-3563] \n",
      "           1057947     ct560  1600-z8 twchiu12  R 3-06:36:21      8 cpn[3531-3538] \n",
      "           1057946     ct560  1290-z8 twchiu12  R 3-06:37:29      8 cpn[3126-3133] \n",
      "           1057959     ct560   0000-8 twchiu12  R 3-05:58:00      8 cpn[3539-3546] \n",
      "           1060654     ct224   job-t3 u271crhs  R 2-14:07:17      4 cpn[3001-3004] \n",
      "           1078032      ct56 01-34-40 j07svt00  R 2-05:30:28      1 cpn3101 \n",
      "           1078658      ct56 01-34-39 j07svt00  R 1-14:23:46      1 cpn3011 \n",
      "           1078520     ct560    Ag_C6 chunchie  R 1-15:58:50      6 cpn[3140-3145] \n",
      "           1078519     ct560    Au_C6 chunchie  R 1-16:00:02      6 cpn[3017-3022] \n",
      "           1077954     ct224  WOx-Zm5 k07ferma  R 2-06:31:01      2 cpn[3195-3196] \n",
      "           1077929     ct224  WOx-Zf5 k07ferma  R 2-06:33:07      2 cpn[3146-3147] \n",
      "           1077450     ct224 WOx-Zfd6 k07ferma  R 2-07:23:29      2 cpn[3586-3587] \n",
      "           1077329     ct224 WOx-Zfd4 k07ferma  R 2-07:38:06      2 cpn[3060-3061] \n",
      "           1081579      ct56   NTU-JP j11jpc03  R 1-08:09:58      1 cpn3337 \n",
      "           1090720      ct56     meep j60wcy00  R    1:28:16      1 cpn3625 \n",
      "           1090715      ct56     meep j60wcy00  R    1:30:50      1 cpn3554 \n",
      "           1090712      ct56     meep j60wcy00  R    1:32:25      1 cpn3333 \n",
      "           1089723      ct56     vasp percy097  R    6:01:06      1 cpn3104 \n",
      "           1088539      ct56 01-34-34 j07svt00  R   10:45:47      1 cpn3009 \n",
      "           1082387     ct224   job-t3 u271crhs  R 1-07:14:13      2 cpn[3626-3627] \n",
      "           1088322     ct224   job-t3 u271crhs  R   11:47:20      2 cpn[3183-3184] \n",
      "           1088320     ct224   job-t3 u271crhs  R   11:48:10      2 cpn[3232-3233] \n",
      "           1088316     ct224   job-t3 u271crhs  R   11:49:27      2 cpn[3166-3167] \n",
      "           1078782      ct56 Sgamma4H billy103  R 1-13:37:58      1 cpn3072 \n",
      "           1057724      ct56 Sgamma5H billy103  R 3-11:16:17      1 cpn3010 \n",
      "           1078320     ct224 aSip8_50 ply6611a  R 2-00:36:01      2 cpn[3006-3007] \n",
      "           1078314     ct224 aSispp8_ ply6611a  R 2-00:46:30      2 cpn[3244-3245] \n",
      "           1078312     ct224 aSispp12 ply6611a  R 2-00:51:37      2 cpn[3598-3599] \n",
      "           1078310     ct224 aSispp10 ply6611a  R 2-00:52:36      2 cpn[3623-3624] \n",
      "           1078309     ct224 aSip8_50 ply6611a  R 2-00:53:16      2 cpn[3237-3238] \n",
      "           1078308     ct224 aSip24_5 ply6611a  R 2-00:54:06      2 cpn[3177-3178] \n",
      "           1078307     ct224 aSip16_5 ply6611a  R 2-00:55:25      2 cpn[3012-3013] \n",
      "           1078154     ct224 Si111p24 ply6611a  R 2-03:13:36      2 cpn[3179-3180] \n",
      "           1078350      ct56 aSispp12 ply6611a  R 2-00:14:45      1 cpn3239 \n",
      "           1078351      ct56 aSispp12 ply6611a  R 2-00:14:45      1 cpn3497 \n",
      "           1078348      ct56 aSispp12 ply6611a  R 2-00:14:49      1 cpn3079 \n",
      "           1078349      ct56 aSispp12 ply6611a  R 2-00:14:49      1 cpn3136 \n",
      "           1078347      ct56 aSispp12 ply6611a  R 2-00:14:54      1 cpn3016 \n",
      "           1089794      ct2k   BT1850 samuel03  R    5:21:18     24 cpn[3197-3220] \n",
      "           1083908     ct224 WOx-Zfd5 k07ferma  R 1-06:04:48      2 cpn[3023-3024] \n",
      "           1082965     ct224  WOx-Zm1 k07ferma  R 1-06:38:49      2 cpn[3277-3278] \n",
      "           1082616     ct224  WOx-Zf1 k07ferma  R 1-06:47:46      2 cpn[3222-3223] \n",
      "           1082544     ct224  WOx-Zf6 k07ferma  R 1-06:54:43      2 cpn[3170-3171] \n",
      "           1082417     ct224  WOx-Zm3 k07ferma  R 1-07:06:31      2 cpn[3345-3346] \n",
      "           1082415     ct224 WOx-Zfd3 k07ferma  R 1-07:08:54      2 cpn[3168-3169] \n",
      "           1082396     ct224  WOx-Zf3 k07ferma  R 1-07:12:29      2 cpn[3340-3341] \n",
      "           1082379     ct224  WOx-Zt4 k07ferma  R 1-07:17:08      2 cpn[3505-3506] \n",
      "           1082211     ct224  WOx-Zf4 k07ferma  R 1-07:26:29      2 cpn[3529-3530] \n",
      "           1089185     ct224  WOx-Zf2 k07ferma  R    9:02:00      2 cpn[3330-3331] \n",
      "           1089183     ct560      u_4 chunchie  R    9:02:55      6 cpn[3153-3158] \n",
      "           1089134     ct560      g_4 chunchie  R    9:21:56      6 cpn[3580-3585] \n",
      "           1089082     ct560      u_2 chunchie  R    9:33:31      6 cpn[3224-3229] \n",
      "           1089078     ct560      g_2 chunchie  R    9:35:08      6 cpn[3189-3194] \n",
      "           1089826     ct560      g_8 chunchie  R    4:52:04      6 cpn[3547-3552] \n",
      "           1089816     ct560      g_8 chunchie  R    4:55:58      6 cpn[3588-3593] \n",
      "           1090820     ct224 Fe-WS2-2 u3106510  R      15:26      5 cpn[3383-3387] \n",
      "           1090817     ct224 Fe-WS2-2 u3106510  R      19:56      5 cpn[3015,3276,3338,3501,3596] \n",
      "           1090811     ct224 Fe-WS2-2 u3106510  R      32:38      5 cpn[3081,3090,3612,3614,3630] \n",
      "           1090809     ct224 Fe-WS2-2 u3106510  R      36:25      5 cpn[3176,3243,3597,3610-3611] \n",
      "           1090808     ct224 Fe-WS2-2 u3106510  R      37:26      5 cpn[3008,3495,3500,3553,3555] \n",
      "           1090805     ct224 Fe-WS2-2 u3106510  R      38:53      5 cpn[3025,3230-3231,3335-3336] \n",
      "           1090639     ct224 Ni-WS2-2 u3106510  R    1:48:43      5 cpn[3053-3054,3526-3528] \n",
      "           1090636     ct224 Ni-WS2-2 u3106510  R    1:49:41      5 cpn[3595,3600-3603] \n",
      "           1090632     ct224 Ni-WS2-2 u3106510  R    1:51:06      5 cpn[3103,3172-3175] \n",
      "           1090631     ct224 Ni-WS2-2 u3106510  R    1:52:26      5 cpn[3135,3162-3165] \n",
      "           1090628     ct224 Ni-WS2-2 u3106510  R    1:54:59      5 cpn[3148-3152] \n",
      "           1090626     ct224 Ni-WS2-2 u3106510  R    1:57:12      5 cpn[3521-3525] \n",
      "           1082612     ct224  fargo3d u1264970  R 1-06:50:08      4 cpn[3318-3321] \n",
      "           1090894      ct2k     vasp andy0907  R      15:26     12 cpn[3398-3409] \n",
      "           1089785     ct224  fargo3d u1264970  R    5:29:35      4 cpn[3507-3510] \n",
      "           1089646     ct224  fargo3d u1264970  R    6:26:31      4 cpn[3049-3052] \n",
      "           1090332      ct56 MFI_zigz u4443081  R    3:20:01      1 cpn3055 \n",
      "           1088296      ct56 MFI_zigz u4443081  R   11:56:47      1 cpn3005 \n",
      "           1088191      ct56   MFI6_4 u4443081  R   12:36:12      1 cpn3494 \n",
      "           1088052      ct56   MFI4_6 u4443081  R   13:11:10      1 cpn3073 \n",
      "         1090376_0      ct2k Neuropix p00acy00  R    3:12:47     36 cpn[3425-3460] \n",
      "         1090376_1      ct2k Neuropix p00acy00  R    3:12:47     36 cpn[3347-3382] \n",
      "         1090376_3      ct2k Neuropix p00acy00  R    3:12:47     36 cpn[3279-3302,3472-3483] \n",
      "         1090376_4      ct2k Neuropix p00acy00  R    3:12:47     36 cpn[3700-3721,3742-3755] \n",
      "         1090376_5      ct2k Neuropix p00acy00  R    3:12:47     36 cpn[3027-3047,3159-3161,3461-3467,3488-3492] \n",
      "           1089554     ct560 ct560.sh u5295716  R    7:01:59      9 cpn[3416-3424] \n",
      "           1089783     ct224 ct224.sh yuchien0  R    5:31:16      2 cpn[3181-3182] \n",
      "           1089557     ct560 ct560.sh u5295716  R    7:01:14      6 cpn[3511-3516] \n",
      "           1090784     ct224 ct224.sh u5295716  R    1:02:25      2 cpn[3608-3609] \n",
      "           1090717      ct56 TSAPD34t tommykuo  R    1:28:56      1 cpn3059 \n",
      "           1090719      ct56 TSAPD34t tommykuo  R    1:28:56      1 cpn3332 \n",
      "           1090807      ct56 OCCOH2_N c3407613  R      37:59      1 cpn3471 \n",
      "           1076745    ngs48G Clinical peimiao0  R 2-09:37:43      1 cpn3884 \n",
      "           1053848   ngs192G github_V peimiao0  R 5-13:03:42      1 cpn3881 \n",
      "           1078167      ct56  999Y2_3 m1070602  R 2-03:03:19      1 cpn3242 \n",
      "           1077102      ct56 La46+8sh angelaya  R 2-07:50:23      1 cpn3236 \n",
      "           1077084      ct56 La46s-sh angelaya  R 2-07:50:58      1 cpn3502 \n",
      "           1077047      ct56  La8s-sh angelaya  R 2-07:58:12      1 cpn3074 \n",
      "           1077024      ct56 La_12Cl- angelaya  R 2-08:08:38      1 cpn3496 \n",
      "           1080194      ct56   y24-sh angelaya  R 1-09:42:35      1 cpn3594 \n",
      "           1068156     ct224 4t.H_to_ hscarlet  R 2-12:28:32      2 cpn[3091-3092] \n",
      "           1078827      ct56 3.MMC_to hscarlet  R 1-13:00:48      1 cpn3076 \n",
      "            654035   ngs384G SAMPLE_N pxchen11  R 51-13:25:15      1 cpn3900 \n",
      "           1087828   ngs512G run_ERR2 chia1717  R    5:26:16      1 bgm3006 \n",
      "           1087826   ngs512G run_ERR2 chia1717  R    6:18:56      1 bgm3006 \n",
      "           1087827   ngs512G run_ERR2 chia1717  R    5:41:28      1 bgm3005 \n",
      "           1087825   ngs512G run_ERR2 chia1717  R    7:09:51      1 bgm3005 \n",
      "           1089212   ngs512G run_SRR6 chia1717  R      56:17      1 bgm3006 \n",
      "           1087824   ngs512G run_ERR2 chia1717  R    8:58:43      1 bgm3005 \n",
      "           1089211   ngs512G run_SRR6 chia1717  R    2:28:08      1 bgm3006 \n",
      "           1089210   ngs512G run_SRR6 chia1717  R    3:26:34      1 bgm3005 \n",
      "           1088297  ngs3T_56 RCC1395_ tzuhaw11  R   11:56:47      1 bgm3001 \n",
      "           1090907    ngs24G 220308_N u00cwh00  R       3:08      1 cpn3883 \n",
      "           1090842    ngs24G 220308_N u00cwh00  R      23:32      1 cpn3856 \n",
      "           1050200   ngs192G Clinical peimiao0  R 6-10:12:46      1 cpn3858 \n",
      "           1089516    ngs48G new_addi peimiao0  R    7:16:24      1 cpn3882 \n",
      "           1089340     ct224  default u3942590  R    8:00:15      2 cpn[3469-3470] \n",
      "           1090259     ct224  default u3942590  R    3:39:28      2 cpn[3062-3063] \n",
      "           1089804     ct224   test17 alway622  R    5:08:36      4 cpn[3322-3325] \n",
      "           1090248     ct224  gm2620i u3703957  R    3:51:57      4 cpn[3484-3487] \n",
      "           1089894     ct224 gm2620hr u3703957  R    4:15:09      4 cpn[3517-3520] \n",
      "           1089073     ct224 vasp.hua u3703957  R    9:37:41      2 cpn[3246-3247] \n",
      "           1081582      ct56     test u3703957  R 1-08:08:30      1 cpn3493 \n",
      "           1089200     ct560 PrFeCoMn u30twy00  R    8:54:56     10 cpn[3328,3339,3468,3628-3629,3757-3759,3782,3784] \n",
      "           1090795      ct56     3AAB vito3576  R      53:06      1 cpn3014 \n",
      "           1090787      ct56        2 m1070602  R      57:48      1 cpn3058 \n",
      "           1090788      ct56        7 m1070602  R      57:48      1 cpn3105 \n",
      "           1090786      ct56        1 m1070602  R      57:50      1 cpn3613 \n",
      "           1088803      ct56   3Cu+O2 b1060612  R   10:31:34      1 cpn3075 \n",
      "           1082390      ct56    p1-08 j14jjc00  R 1-07:14:13      1 cpn3221 \n",
      "           1082288      ct56   Finn-5 j14jjc00  R 1-07:19:21      1 cpn3344 \n",
      "           1088399     ct224  pcl_opt ntust061  R   11:08:25      2 cpn[3342-3343] \n",
      "           1080273      ct56 y48+32s- angelaya  R 1-08:44:49      1 cpn3048 \n",
      "           1080266      ct56   y38-sh angelaya  R 1-09:04:52      1 cpn3334 \n",
      "           1080263      ct56   y14-sh angelaya  R 1-09:08:37      1 cpn3326 \n",
      "           1080205      ct56 y46cl--s angelaya  R 1-09:37:04      1 cpn3329 \n",
      "           1088355      ct56 2.H2_to_ hscarlet  R   11:17:11      1 cpn3235 \n",
      "           1088337      ct56  freq-06 hscarlet  R   11:28:58      1 cpn3080 \n",
      "           1090496      ct2k TaiCAM.f ioloi112  R    2:39:50     15 cpn[3303-3317] \n",
      "           1090549      ct2k f05.F-hi j07hsu00  R    2:25:40     20 cpn[3256-3275] \n",
      "           1087466      ct2k f09.B-hi j07hsu00  R   18:40:38     20 cpn[3722-3741] \n",
      "           1090726     ct560 run.FHIS minhuilo  R    1:19:24     10 cpn[3077-3078,3240-3241,3498-3499,3604-3607] \n",
      "           1089802     ct560 run.FHIS minhuilo  R    5:10:08     10 cpn[3106-3115] \n"
     ]
    }
   ],
   "source": [
    "!squeue"
   ]
  },
  {
   "cell_type": "code",
   "execution_count": 16,
   "id": "426259eb",
   "metadata": {},
   "outputs": [],
   "source": [
    "# https://man.twcc.ai/@TWCC-III-manual/ryyo0tsuu\n",
    "def SLURM(cmd):\n",
    "    ## SLURM 內容, 請修改 ---> Email\n",
    "    SLURM='''#!/work/c00cjz002/binary/bash5.0/bin/bash\n",
    "#SBATCH -A MST109178        # 計畫代號\n",
    "#SBATCH -J CPU_T3_C34       # 工作代號 (標籤, 可自行定義)\n",
    "#SBATCH -p ngs12G           # 工作區塊 \n",
    "#SBATCH -c 3                # 使用的CPU核心數\n",
    "#SBATCH --mem=12g           # 使用的記憶體容量 \n",
    "#SBATCH --mail-user=summerhill001@gmail.com    # 請修改為您的信向\n",
    "#SBATCH --mail-type=BEGIN,END                  # 指定送出email時機 可為NONE, BEGIN, END, FAIL, REQUEUE, ALL\n",
    "#SBATCH -o log/%j.logi      # 執行記錄檔案儲存於log目錄底下\n",
    "#SBATCh -w cpn3671\n",
    "'''\n",
    "    myCmd = SLURM + cmd\n",
    "    \n",
    "    ## 儲存上述內容 SLURM.sh\n",
    "    import time\n",
    "    slurm_shell = 'slurm/'+time.strftime(\"%Y-%m-%d_%H-%M-%S\")+'.sh'\n",
    "    \n",
    "    f = open(slurm_shell, \"w\")\n",
    "    f.write(myCmd)\n",
    "    f.close()    \n",
    "\n",
    "    ## 執行SLURM\n",
    "    #!sbatch SLURM.sh\n",
    "    jobID=(subprocess.check_output('sbatch '+slurm_shell+' |awk \\'{print $4}\\'', shell=True,text=True))\n",
    "    return jobID\n",
    "\n",
    "## 建立目錄\n",
    "import subprocess\n",
    "!mkdir -p slurm\n",
    "!mkdir -p log"
   ]
  },
  {
   "cell_type": "markdown",
   "id": "201f496e",
   "metadata": {},
   "source": [
    "## nvflare Server"
   ]
  },
  {
   "cell_type": "code",
   "execution_count": 17,
   "id": "6a5742d4",
   "metadata": {},
   "outputs": [
    {
     "name": "stdout",
     "output_type": "stream",
     "text": [
      "1090909\n"
     ]
    }
   ],
   "source": [
    "## nvflare Server\n",
    "cmd='''\n",
    "## -> 啟動 admin\n",
    "unset http_proxy\n",
    "unset https_proxy\n",
    "cd /home/c00cjz00/nvflare_data/jupyter\n",
    "source condaInit.sh use_env nvflare 3.8\n",
    "bash server.sh /home/c00cjz00/abc\n",
    "pid=$!\n",
    "sleep 1\n",
    "\n",
    "# -> 等待nvflar結束才會離線\n",
    "wait $pid\n",
    "'''\n",
    "\n",
    "## 送出工作到計算節點電腦\n",
    "jobID = SLURM(cmd)\n",
    "print(jobID.strip())"
   ]
  },
  {
   "cell_type": "code",
   "execution_count": 18,
   "id": "c0e29d4d-b026-4244-b2e6-3d43c78293bd",
   "metadata": {},
   "outputs": [
    {
     "data": {
      "text/plain": [
       "'cpn3883'"
      ]
     },
     "execution_count": 18,
     "metadata": {},
     "output_type": "execute_result"
    }
   ],
   "source": [
    "import time\n",
    "#jobID\n",
    "## 觀看執行狀況\n",
    "hit='none'\n",
    "while hit!='cpn':\n",
    "    tmp=!squeue -u `whoami` | sed -e 's/^[[:space:]]*//' |grep $jobID\n",
    "    x = tmp[0].split()\n",
    "    adminHostname=x[7]\n",
    "    hit=adminHostname[:3]\n",
    "    if  hit!='cpn':\n",
    "        time.sleep( 5 )\n",
    "\n",
    "adminHostname"
   ]
  },
  {
   "cell_type": "code",
   "execution_count": 19,
   "id": "9216912e-65e9-4786-bcae-18def659fa06",
   "metadata": {},
   "outputs": [
    {
     "name": "stdout",
     "output_type": "stream",
     "text": [
      "             JOBID PARTITION     NAME     USER ST       TIME  NODES NODELIST(REASON) \n",
      "           1090909    ngs12G CPU_T3_C c00cjz00  R       0:04      1 cpn3883 \n"
     ]
    }
   ],
   "source": [
    "## 觀看執行狀況\n",
    "!squeue -u `whoami` | grep \"$jobID\\|JOBID\" "
   ]
  },
  {
   "cell_type": "code",
   "execution_count": 20,
   "id": "4ac94eaa-7516-4a0d-9297-cbbf97f85f13",
   "metadata": {},
   "outputs": [],
   "source": [
    "# https://man.twcc.ai/@TWCC-III-manual/ryyo0tsuu\n",
    "def SLURM(cmd):\n",
    "    ## SLURM 內容, 請修改 ---> Email\n",
    "    SLURM='''#!/work/c00cjz002/binary/bash5.0/bin/bash\n",
    "#SBATCH -A MST109178        # 計畫代號\n",
    "#SBATCH -J GPU_T3_C34       # 工作代號 (標籤, 可自行定義)\n",
    "#SBATCH -p ngs1gpu         # 工作區塊 \n",
    "#SBATCH -c 6                # 使用的CPU核心數\n",
    "#SBATCH --mem=90g           # 使用的記憶體容量 \n",
    "#SBATCH --gres=gpu:1        # 使用的GPU數 請參考Queue資源設定\n",
    "#SBATCH --mail-user=summerhill001@gmail.com    # 請修改為您的信向\n",
    "#SBATCH --mail-type=BEGIN,END                  # 指定送出email時機 可為NONE, BEGIN, END, FAIL, REQUEUE, ALL\n",
    "#SBATCH -o log/%j.logi      # 執行記錄檔案儲存於log目錄底下\n",
    "#SBATCh -w cpn3671\n",
    "'''\n",
    "    myCmd = SLURM + cmd\n",
    "    \n",
    "    ## 儲存上述內容 SLURM.sh\n",
    "    import time\n",
    "    slurm_shell = 'slurm/'+time.strftime(\"%Y-%m-%d_%H-%M-%S\")+'.sh'\n",
    "    \n",
    "    f = open(slurm_shell, \"w\")\n",
    "    f.write(myCmd)\n",
    "    f.close()    \n",
    "\n",
    "    ## 執行SLURM\n",
    "    #!sbatch SLURM.sh\n",
    "    jobID=(subprocess.check_output('sbatch '+slurm_shell+' |awk \\'{print $4}\\'', shell=True,text=True))\n",
    "    return jobID\n",
    "\n",
    "## 建立目錄\n",
    "import subprocess\n",
    "!mkdir -p slurm\n",
    "!mkdir -p log"
   ]
  },
  {
   "cell_type": "markdown",
   "id": "50f9f1fe-af31-44fe-aa93-e74d8de65bb3",
   "metadata": {},
   "source": [
    "## nvflare site-1"
   ]
  },
  {
   "cell_type": "code",
   "execution_count": 21,
   "id": "baaf4181-bc25-4683-8d5e-1e629d48961f",
   "metadata": {},
   "outputs": [
    {
     "name": "stdout",
     "output_type": "stream",
     "text": [
      "1090910\n"
     ]
    }
   ],
   "source": [
    "## nvflare site-1\n",
    "cmd='''\n",
    "## -> 啟動 site-1\n",
    "unset http_proxy\n",
    "unset https_proxy\n",
    "server='''+adminHostname+'''\n",
    "cd /home/c00cjz00/nvflare_data/jupyter\n",
    "source condaInit.sh use_env nvflare 3.8\n",
    "bash site-1.sh ${server} site-1 /home/c00cjz00/abc &\n",
    "pid=$!\n",
    "sleep 1\n",
    "\n",
    "# -> 等待nvflar結束才會離線\n",
    "wait $pid\n",
    "'''\n",
    "\n",
    "## 送出工作到計算節點電腦\n",
    "jobID = SLURM(cmd)\n",
    "print(jobID.strip())"
   ]
  },
  {
   "cell_type": "markdown",
   "id": "dcfec436-b28c-4150-b7a7-fe112a38bb93",
   "metadata": {},
   "source": [
    "## nvflare site-2"
   ]
  },
  {
   "cell_type": "code",
   "execution_count": 22,
   "id": "0edadd43-523e-4e4e-a1ed-21417b43415e",
   "metadata": {},
   "outputs": [
    {
     "name": "stdout",
     "output_type": "stream",
     "text": [
      "1090911\n"
     ]
    }
   ],
   "source": [
    "## nvflare site-2\n",
    "cmd='''\n",
    "## -> 啟動 site-2\n",
    "unset http_proxy\n",
    "unset https_proxy\n",
    "server='''+adminHostname+'''\n",
    "cd /home/c00cjz00/nvflare_data/jupyter\n",
    "source condaInit.sh use_env nvflare 3.8\n",
    "bash site-1.sh ${server} site-2 /home/c00cjz00/abc &\n",
    "pid=$!\n",
    "sleep 1\n",
    "\n",
    "# -> 等待nvflar結束才會離線\n",
    "wait $pid\n",
    "'''\n",
    "\n",
    "## 送出工作到計算節點電腦\n",
    "jobID = SLURM(cmd)\n",
    "print(jobID.strip())"
   ]
  },
  {
   "cell_type": "markdown",
   "id": "3c78aa97",
   "metadata": {},
   "source": [
    "## 計算節點電腦"
   ]
  },
  {
   "cell_type": "code",
   "execution_count": 23,
   "id": "b41335e4",
   "metadata": {},
   "outputs": [
    {
     "name": "stdout",
     "output_type": "stream",
     "text": [
      "             JOBID PARTITION     NAME     USER ST       TIME  NODES NODELIST(REASON) \n",
      "           1090910   ngs1gpu GPU_T3_C c00cjz00  R       0:00      1 gpn3001 \n",
      "           1090911   ngs1gpu GPU_T3_C c00cjz00  R       0:00      1 gpn3001 \n",
      "           1090909    ngs12G CPU_T3_C c00cjz00  R       0:09      1 cpn3883 \n"
     ]
    }
   ],
   "source": [
    "## 觀看執行狀況\n",
    "!squeue -u `whoami` | grep \"$jobID\\|JOBID\" "
   ]
  },
  {
   "cell_type": "code",
   "execution_count": 13,
   "id": "a7ac5304",
   "metadata": {},
   "outputs": [],
   "source": [
    "## 刪除JOB \n",
    "!scancel 1090905   1090906  1090903                 "
   ]
  },
  {
   "cell_type": "code",
   "execution_count": 24,
   "id": "76f822fe-2b3f-476c-8585-c27311fef5f7",
   "metadata": {},
   "outputs": [
    {
     "name": "stdout",
     "output_type": "stream",
     "text": [
      "\n",
      "## -> 啟動 admin\n",
      "server=cpn3883\n",
      "cd /home/c00cjz00/nvflare_data/jupyter\n",
      "source condaInit.sh use_env nvflare 3.8\n",
      "bash admin.sh ${server} /home/c00cjz00/abc\n",
      "\n"
     ]
    }
   ],
   "source": [
    "## nvflare admin\n",
    "cmd='''\n",
    "## -> 啟動 admin\n",
    "server='''+adminHostname+'''\n",
    "cd /home/c00cjz00/nvflare_data/jupyter\n",
    "source condaInit.sh use_env nvflare 3.8\n",
    "bash admin.sh ${server} /home/c00cjz00/abc\n",
    "'''\n",
    "\n",
    "## 送出工作到計算節點電腦\n",
    "print(cmd)"
   ]
  },
  {
   "cell_type": "raw",
   "id": "2683ca83-e1a8-4d2a-be29-ed453e7a0773",
   "metadata": {},
   "source": [
    "upload_app hello-pt\n",
    "set_run_number 1\n",
    "deploy_app hello-pt all\n",
    "start_app all\n",
    "shutdown client\n",
    "shutdown server"
   ]
  },
  {
   "cell_type": "markdown",
   "id": "e6b902e1-401d-483c-a882-fc6fc9bd9802",
   "metadata": {},
   "source": [
    "## 自家電腦"
   ]
  },
  {
   "cell_type": "raw",
   "id": "6bc6662b-659b-4408-85b8-9ae75b60ce2d",
   "metadata": {},
   "source": [
    "## 自家電腦\n",
    "adminHostname=support.biobank.org.tw\n",
    "adminHostname_port=9636\n",
    "ps aux | grep site-3 | awk '{print $2}' | xargs kill -9\n",
    "cd ~/\n",
    "rm -rf ~/nvflare_user03\n",
    "mkdir -p ~/nvflare_user03\n",
    "cd ~/nvflare_user03\n",
    "source /home/ubuntu/miniconda3/bin/activate\n",
    "conda activate nvflare\n",
    "poc -n 3\n",
    "replace 8002 ${adminHostname_port} -- poc/site-3/startup/fed_client.json\n",
    "replace localhost ${adminHostname} -- poc/site-3/startup/fed_client.json\n",
    "\n",
    "site_name=site-3\n",
    "server=$adminHostname\n",
    "mkdir -p ~/nvflare_user03/poc/site-3/transfer\n",
    "sleep 1\n",
    "~/nvflare_user03/poc/site-3/startup/sub_start.sh $site_name $server"
   ]
  }
 ],
 "metadata": {
  "kernelspec": {
   "display_name": "Python 3",
   "language": "python",
   "name": "python3"
  },
  "language_info": {
   "codemirror_mode": {
    "name": "ipython",
    "version": 3
   },
   "file_extension": ".py",
   "mimetype": "text/x-python",
   "name": "python",
   "nbconvert_exporter": "python",
   "pygments_lexer": "ipython3",
   "version": "3.9.5"
  }
 },
 "nbformat": 4,
 "nbformat_minor": 5
}
